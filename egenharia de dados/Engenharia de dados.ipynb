{
 "cells": [
  {
   "cell_type": "markdown",
   "metadata": {},
   "source": [
    "# Import"
   ]
  },
  {
   "cell_type": "code",
   "execution_count": 1,
   "metadata": {},
   "outputs": [],
   "source": [
    "#importanto as Libs\n",
    "import pandas as pd\n",
    "import numpy as np"
   ]
  },
  {
   "cell_type": "markdown",
   "metadata": {},
   "source": [
    "## Importando os dados"
   ]
  },
  {
   "cell_type": "code",
   "execution_count": 2,
   "metadata": {},
   "outputs": [],
   "source": [
    "# como os dados que vamos trabalhar são posicionais(eles não tem delimitações \"é uma grande string\") vamos utilizar o metodo read_fwf\n",
    "def read_file(path, name_file, year_date, type_file):\n",
    "    \n",
    "    _file = f'{path}{name_file}{year_date}.{type_file}'\n",
    "    \n",
    "    colspecs = [(2, 10),\n",
    "                (10, 12),\n",
    "                (12, 24),\n",
    "                (27, 39),\n",
    "                (56, 69),\n",
    "                (69, 82),\n",
    "                (82, 95),\n",
    "                (108, 121),\n",
    "                (152, 170),\n",
    "                (170, 188)\n",
    "\n",
    "    ]\n",
    "\n",
    "    names = ['data_pregao', 'codbdi','sigla_acao', 'nome_acao', 'preco_abertura','preco_maximo','preco_minimo', 'preco_fechamento', 'qtd_negocio', 'volume']\n",
    "\n",
    "    df = pd.read_fwf(_file, colspecs = colspecs, names = names, skiprows=1)\n",
    "    return df"
   ]
  },
  {
   "cell_type": "code",
   "execution_count": 3,
   "metadata": {},
   "outputs": [],
   "source": [
    "#filtrar ações\n",
    "def filter_Stocks(df):\n",
    "    df = df[df['codbdi']==2]\n",
    "    df = df.drop(['codbdi'],axis=1)\n",
    "    \n",
    "    return df"
   ]
  },
  {
   "cell_type": "code",
   "execution_count": 4,
   "metadata": {},
   "outputs": [],
   "source": [
    "#ajustes campo de data\n",
    "def parse_date(df):\n",
    "    df['data_pregao'] = pd.to_datetime(df['data_pregao'], format = '%Y%m%d')\n",
    "    return df"
   ]
  },
  {
   "cell_type": "code",
   "execution_count": 5,
   "metadata": {},
   "outputs": [],
   "source": [
    "#Ajuste dos campos númericos\n",
    "\n",
    "def parse_values(df):\n",
    "\n",
    "    df['preco_abertura'] = (df['preco_abertura'] /100).astype(float)\n",
    "    df['preco_maximo'] = (df['preco_maximo'] /100).astype(float)\n",
    "    df['preco_minimo'] = (df['preco_minimo'] /100).astype(float)\n",
    "    df['preco_fechamento'] = (df['preco_fechamento'] /100).astype(float)\n",
    "    return df"
   ]
  },
  {
   "cell_type": "code",
   "execution_count": 6,
   "metadata": {},
   "outputs": [],
   "source": [
    "#juntando os arquivos\n",
    "\n",
    "def concat_files(path, name_file, year_date, type_file, final_file):\n",
    "    \n",
    "    for i , y in enumerate(year_date):\n",
    "        df = read_file(path, name_file, y, type_file)\n",
    "        df = filter_Stocks(df)\n",
    "        df = parse_date(df)\n",
    "        df = parse_values(df)\n",
    "        \n",
    "        if i ==0:\n",
    "            df_final = df\n",
    "        else:\n",
    "            df_final = pd.concat([df_final, df])\n",
    "            \n",
    "    df_final.to_csv(f'{path}//{final_file}', index=False)"
   ]
  },
  {
   "cell_type": "code",
   "execution_count": 7,
   "metadata": {},
   "outputs": [],
   "source": [
    "#executando programa de etl\n",
    "\n",
    "year_date = ['2016','2017','2018','2019', '2020','2021']\n",
    "\n",
    "path = f'C:/Users/mbertuci/Anaconda3/projetos/Séries Temporais/engenharia_de_dados/'\n",
    "name_file = 'COTAHIST_A'\n",
    "type_file = 'txt'\n",
    "final_file = 'all_bovespa.csv'\n",
    "concat_files(path, name_file, year_date, type_file, final_file)"
   ]
  },
  {
   "cell_type": "code",
   "execution_count": null,
   "metadata": {},
   "outputs": [],
   "source": []
  }
 ],
 "metadata": {
  "kernelspec": {
   "display_name": "Python 3",
   "language": "python",
   "name": "python3"
  },
  "language_info": {
   "codemirror_mode": {
    "name": "ipython",
    "version": 3
   },
   "file_extension": ".py",
   "mimetype": "text/x-python",
   "name": "python",
   "nbconvert_exporter": "python",
   "pygments_lexer": "ipython3",
   "version": "3.8.5"
  }
 },
 "nbformat": 4,
 "nbformat_minor": 4
}
